{
 "cells": [
  {
   "cell_type": "code",
   "execution_count": 5,
   "metadata": {},
   "outputs": [
    {
     "name": "stdout",
     "output_type": "stream",
     "text": [
      "Hello, World\n"
     ]
    }
   ],
   "source": [
    "print(\"Hello, World\")"
   ]
  },
  {
   "cell_type": "code",
   "execution_count": null,
   "metadata": {},
   "outputs": [],
   "source": [
    "\n"
   ]
  },
  {
   "cell_type": "code",
   "execution_count": 3,
   "metadata": {},
   "outputs": [
    {
     "name": "stdout",
     "output_type": "stream",
     "text": [
      "[[ 2  5  2 -1]\n",
      " [ 0  3  0  1]]\n"
     ]
    }
   ],
   "source": [
    "\n",
    "# importando a biblioteca\n",
    "# com o apelido de np\n",
    "import numpy as np\n",
    "\n",
    "\n",
    "# declarando a matriz A\n",
    "A = np.array([\n",
    "    [2,5,2,-1],\n",
    "    [0,3,0, 1],\n",
    "])\n",
    "\n",
    "print(A)"
   ]
  },
  {
   "cell_type": "code",
   "execution_count": 1,
   "metadata": {},
   "outputs": [],
   "source": [
    "# imprime a matriz A\n"
   ]
  },
  {
   "cell_type": "code",
   "execution_count": 7,
   "metadata": {},
   "outputs": [],
   "source": [
    "# muda entrada (2, 4) para 7\n",
    "A[1][3] = 7"
   ]
  },
  {
   "cell_type": "code",
   "execution_count": 8,
   "metadata": {},
   "outputs": [
    {
     "name": "stdout",
     "output_type": "stream",
     "text": [
      "[[ 2  5  2 -1]\n",
      " [ 0  3  0  7]]\n"
     ]
    }
   ],
   "source": [
    "# imprime A\n",
    "\n",
    "print(A)"
   ]
  },
  {
   "cell_type": "code",
   "execution_count": 9,
   "metadata": {},
   "outputs": [
    {
     "data": {
      "text/plain": [
       "array([[ 2,  0],\n",
       "       [ 5,  3],\n",
       "       [ 2,  0],\n",
       "       [-1,  7]])"
      ]
     },
     "execution_count": 9,
     "metadata": {},
     "output_type": "execute_result"
    }
   ],
   "source": [
    "# transponhe A\n",
    "np.transpose(A)"
   ]
  },
  {
   "cell_type": "code",
   "execution_count": 7,
   "metadata": {},
   "outputs": [
    {
     "name": "stdout",
     "output_type": "stream",
     "text": [
      "[[19]\n",
      " [ 8]]\n"
     ]
    },
    {
     "data": {
      "text/plain": [
       "array([[1., 0., 0.],\n",
       "       [0., 1., 0.],\n",
       "       [0., 0., 1.]])"
      ]
     },
     "execution_count": 7,
     "metadata": {},
     "output_type": "execute_result"
    }
   ],
   "source": [
    "import numpy as np\n",
    "# cria a matriz\n",
    "A = np.array([\n",
    "    [1, 2],\n",
    "    [3, -1]\n",
    "])\n",
    "\n",
    "#cria a matriz B\n",
    "B = np.array([\n",
    "    [5],\n",
    "    [7]\n",
    "])\n",
    "\n",
    "#cria a matriz C como\n",
    "# produto de A por B\n",
    "C = np.matmul(A , B)\n",
    "print(C)"
   ]
  },
  {
   "cell_type": "code",
   "execution_count": 8,
   "metadata": {},
   "outputs": [
    {
     "data": {
      "text/plain": [
       "array([[1., 1., 1.],\n",
       "       [1., 1., 1.]])"
      ]
     },
     "execution_count": 8,
     "metadata": {},
     "output_type": "execute_result"
    }
   ],
   "source": [
    "# matriz 2x3 de 1's\n",
    "np.ones([2, 3])\n"
   ]
  },
  {
   "cell_type": "code",
   "execution_count": 9,
   "metadata": {},
   "outputs": [
    {
     "data": {
      "text/plain": [
       "array([[0., 0., 0.],\n",
       "       [0., 0., 0.]])"
      ]
     },
     "execution_count": 9,
     "metadata": {},
     "output_type": "execute_result"
    }
   ],
   "source": [
    "# matriz 2x3 de 0's\n",
    "np.zeros([2, 3])"
   ]
  },
  {
   "cell_type": "code",
   "execution_count": 10,
   "metadata": {},
   "outputs": [
    {
     "data": {
      "text/plain": [
       "array([[1., 0., 0.],\n",
       "       [0., 1., 0.],\n",
       "       [0., 0., 1.]])"
      ]
     },
     "execution_count": 10,
     "metadata": {},
     "output_type": "execute_result"
    }
   ],
   "source": [
    "# matriz 3x3 identidade \n",
    "np.identity(3)\n"
   ]
  },
  {
   "cell_type": "code",
   "execution_count": 14,
   "metadata": {},
   "outputs": [
    {
     "data": {
      "text/plain": [
       "array([[[1., 1., 1.],\n",
       "        [1., 1., 1.],\n",
       "        [1., 1., 1.],\n",
       "        [1., 1., 1.],\n",
       "        [1., 1., 1.],\n",
       "        [1., 1., 1.],\n",
       "        [1., 1., 1.],\n",
       "        [1., 1., 1.],\n",
       "        [1., 1., 1.]],\n",
       "\n",
       "       [[1., 1., 1.],\n",
       "        [1., 1., 1.],\n",
       "        [1., 1., 1.],\n",
       "        [1., 1., 1.],\n",
       "        [1., 1., 1.],\n",
       "        [1., 1., 1.],\n",
       "        [1., 1., 1.],\n",
       "        [1., 1., 1.],\n",
       "        [1., 1., 1.]],\n",
       "\n",
       "       [[1., 1., 1.],\n",
       "        [1., 1., 1.],\n",
       "        [1., 1., 1.],\n",
       "        [1., 1., 1.],\n",
       "        [1., 1., 1.],\n",
       "        [1., 1., 1.],\n",
       "        [1., 1., 1.],\n",
       "        [1., 1., 1.],\n",
       "        [1., 1., 1.]],\n",
       "\n",
       "       [[1., 1., 1.],\n",
       "        [1., 1., 1.],\n",
       "        [1., 1., 1.],\n",
       "        [1., 1., 1.],\n",
       "        [1., 1., 1.],\n",
       "        [1., 1., 1.],\n",
       "        [1., 1., 1.],\n",
       "        [1., 1., 1.],\n",
       "        [1., 1., 1.]],\n",
       "\n",
       "       [[1., 1., 1.],\n",
       "        [1., 1., 1.],\n",
       "        [1., 1., 1.],\n",
       "        [1., 1., 1.],\n",
       "        [1., 1., 1.],\n",
       "        [1., 1., 1.],\n",
       "        [1., 1., 1.],\n",
       "        [1., 1., 1.],\n",
       "        [1., 1., 1.]],\n",
       "\n",
       "       [[1., 1., 1.],\n",
       "        [1., 1., 1.],\n",
       "        [1., 1., 1.],\n",
       "        [1., 1., 1.],\n",
       "        [1., 1., 1.],\n",
       "        [1., 1., 1.],\n",
       "        [1., 1., 1.],\n",
       "        [1., 1., 1.],\n",
       "        [1., 1., 1.]],\n",
       "\n",
       "       [[1., 1., 1.],\n",
       "        [1., 1., 1.],\n",
       "        [1., 1., 1.],\n",
       "        [1., 1., 1.],\n",
       "        [1., 1., 1.],\n",
       "        [1., 1., 1.],\n",
       "        [1., 1., 1.],\n",
       "        [1., 1., 1.],\n",
       "        [1., 1., 1.]],\n",
       "\n",
       "       [[1., 1., 1.],\n",
       "        [1., 1., 1.],\n",
       "        [1., 1., 1.],\n",
       "        [1., 1., 1.],\n",
       "        [1., 1., 1.],\n",
       "        [1., 1., 1.],\n",
       "        [1., 1., 1.],\n",
       "        [1., 1., 1.],\n",
       "        [1., 1., 1.]]])"
      ]
     },
     "execution_count": 14,
     "metadata": {},
     "output_type": "execute_result"
    }
   ],
   "source": [
    "# matriz 8x9x3 de 1's\n",
    "np.ones((8, 9, 3))"
   ]
  },
  {
   "cell_type": "code",
   "execution_count": 12,
   "metadata": {},
   "outputs": [],
   "source": [
    "import numpy as np\n",
    "R = np.array([\n",
    "    [1, 1, 0, 0, 0, 0, 0, 1, 1],\n",
    "    [1, 0, 1, 1, 1, 1, 1, 0, 1],\n",
    "    [0, 1, 1, 1, 1, 1, 1, 1, 0],\n",
    "    [0, 1, 1, 1, 1, 1, 1, 1, 0],\n",
    "    [1, 0, 0, 0, 0, 0, 0, 0, 1],\n",
    "    [1, 1, 0, 1, 1, 1, 0, 1, 1],\n",
    "    [1, 1, 0, 1, 1, 1, 0, 1, 1],\n",
    "    [1, 1, 1, 0, 0, 0, 1, 1, 1]\n",
    "], dtype=np.float32)\n",
    "G = np.array([\n",
    "    [1, 1, 0, 0, 0, 0, 0, 1, 1],\n",
    "    [1, 0, 1, 0, 0, 1, 1, 0, 1],\n",
    "    [0, 0, 1, 0, 0, 1, 0, 1, 0],\n",
    "    [0, 0, 0, 1, 1, 0, 0, 1, 0],\n",
    "    [1, 0, 0, 0, 0, 0, 0, 0, 1],\n",
    "    [1, 1, 0, 1, 1, 1, 0, 1, 1],\n",
    "    [1, 1, 0, 1, 1, 1, 0, 1, 1],\n",
    "    [1, 1, 1, 0, 0, 0, 1, 1, 1]\n",
    "], dtype=np.float32)\n",
    "B = np.array([\n",
    "    [1, 1, 0, 0, 0, 0, 0, 1, 1],\n",
    "    [1, 0, 1, 0, 0, 1, 1, 0, 1],\n",
    "    [0, 0, 1, 0, 0, 1, 0, 1, 0],\n",
    "    [0, 0, 0, 1, 1, 0, 0, 1, 0],\n",
    "    [1, 0, 0, 0, 0, 0, 0, 0, 1],\n",
    "    [1, 1, 0, 1, 1, 1, 0, 1, 1],\n",
    "    [1, 1, 0, 1, 1, 1, 0, 1, 1],\n",
    "    [1, 1, 1, 0, 0, 0, 1, 1, 1]\n",
    "], dtype=np.float32)\n",
    "\n",
    "# cria matriz 8x9x3 nula\n",
    "M = np.zeros((8,9,3), dtype=np.float32)\n",
    "# atribui R à 1ª camada de M\n",
    "M[:,:,0] = R\n",
    "# atribui G à 2ª camada de M\n",
    "M[:,:,1] = G\n",
    "# atribui B à 3ª camada de M\n",
    "M[:,:,2] = B\n",
    "\n"
   ]
  },
  {
   "cell_type": "code",
   "execution_count": 13,
   "metadata": {},
   "outputs": [
    {
     "data": {
      "image/png": "[encoded data removed]",
      "text/plain": [
       "<Figure size 288x288 with 1 Axes>"
      ]
     },
     "metadata": {
      "needs_background": "light"
     },
     "output_type": "display_data"
    }
   ],
   "source": [
    "# importando a imagem\n",
    "import matplotlib.pyplot as plt\n",
    "plt.figure(figsize=(4, 4))\n",
    "im = plt.imshow(M, aspect='auto')\n",
    "plt.axis(\"off\")\n",
    "plt.show()"
   ]
  },
  {
   "cell_type": "code",
   "execution_count": null,
   "metadata": {},
   "outputs": [],
   "source": []
  },
  {
   "cell_type": "code",
   "execution_count": 22,
   "metadata": {},
   "outputs": [
    {
     "data": {
      "text/plain": [
       "[[1, 1, 0, 0, 0, 0, 0, 1, 1, 0],\n",
       " [1, 0, 1, 1, 1, 1, 1, 0, 1, 1],\n",
       " [0, 1, 1, 1, 1, 1, 1, 1, 0, 0],\n",
       " [0, 1, 1, 1, 1, 1, 1, 1, 0, 1],\n",
       " [1, 0, 0, 0, 0, 0, 0, 0, 1, 0],\n",
       " [1, 1, 0, 1, 1, 1, 0, 1, 1, 1],\n",
       " [1, 1, 0, 1, 1, 1, 0, 1, 1, 0],\n",
       " [1, 1, 1, 0, 0, 0, 1, 1, 1, 1],\n",
       " [0, 1, 0, 1, 0, 1, 1, 1, 0, 1],\n",
       " [0, 1, 1, 1, 1, 1, 1, 0, 0, 1]]"
      ]
     },
     "execution_count": 22,
     "metadata": {},
     "output_type": "execute_result"
    }
   ],
   "source": [
    "# exercício de Viviano\n",
    "\n",
    "import random\n",
    "\n",
    "random.randint(0, 1)\n",
    "\n",
    "Matriz = [\n",
    "    [1, 1, 0, 0, 0, 0, 0, 1, 1, 0],\n",
    "    [1, 0, 1, 1, 1, 1, 1, 0, 1, 1],\n",
    "    [0, 1, 1, 1, 1, 1, 1, 1, 0, 0],\n",
    "    [0, 1, 1, 1, 1, 1, 1, 1, 0, 1],\n",
    "    [1, 0, 0, 0, 0, 0, 0, 0, 1, 0],\n",
    "    [1, 1, 0, 1, 1, 1, 0, 1, 1, 1],\n",
    "    [1, 1, 0, 1, 1, 1, 0, 1, 1, 0],\n",
    "    [1, 1, 1, 0, 0, 0, 1, 1, 1, 1],\n",
    "    [0, 1, 0, 1, 0, 1, 1, 1, 0, 1],\n",
    "    [0, 1, 1, 1, 1, 1, 1, 0, 0, 1]\n",
    "\n",
    "]\n",
    "\n",
    "Matriz"
   ]
  },
  {
   "cell_type": "code",
   "execution_count": 23,
   "metadata": {},
   "outputs": [],
   "source": [
    "for linha in range(0, 10):\n",
    "    # print (linha)\n",
    "    for pixel in range(0, 10):\n",
    "       # print(pixel) \n",
    "        Matriz[linha][pixel] = random.randint(0, 1)\n",
    "       \n"
   ]
  },
  {
   "cell_type": "code",
   "execution_count": 26,
   "metadata": {},
   "outputs": [
    {
     "data": {
      "text/plain": [
       "[[0, 0, 1, 1, 0, 0, 0, 0, 0, 1],\n",
       " [0, 0, 1, 1, 0, 1, 0, 1, 1, 1],\n",
       " [0, 0, 1, 1, 0, 0, 0, 1, 1, 1],\n",
       " [0, 0, 0, 1, 1, 0, 1, 1, 1, 1],\n",
       " [1, 1, 0, 1, 0, 1, 1, 0, 0, 0],\n",
       " [0, 0, 0, 1, 1, 0, 1, 0, 1, 1],\n",
       " [1, 1, 1, 0, 0, 1, 0, 1, 1, 0],\n",
       " [1, 1, 1, 0, 1, 1, 0, 0, 1, 1],\n",
       " [0, 0, 1, 0, 1, 0, 0, 1, 1, 0],\n",
       " [1, 1, 1, 1, 0, 0, 0, 0, 1, 0]]"
      ]
     },
     "execution_count": 26,
     "metadata": {},
     "output_type": "execute_result"
    }
   ],
   "source": [
    "Matriz"
   ]
  },
  {
   "cell_type": "code",
   "execution_count": 33,
   "metadata": {},
   "outputs": [
    {
     "name": "stdout",
     "output_type": "stream",
     "text": [
      "36\n"
     ]
    },
    {
     "data": {
      "text/plain": [
       "61"
      ]
     },
     "execution_count": 33,
     "metadata": {},
     "output_type": "execute_result"
    }
   ],
   "source": [
    "numero_1 = random.randint(0, 100)\n",
    "numero_2 = random.randint(0, 100)\n",
    "print(numero_1)\n",
    "numero_2"
   ]
  },
  {
   "cell_type": "code",
   "execution_count": 35,
   "metadata": {},
   "outputs": [
    {
     "name": "stdout",
     "output_type": "stream",
     "text": [
      "3\n"
     ]
    },
    {
     "data": {
      "text/plain": [
       "6"
      ]
     },
     "execution_count": 35,
     "metadata": {},
     "output_type": "execute_result"
    }
   ],
   "source": [
    "linha = numero_1 // 10\n",
    "print(linha)\n",
    "\n",
    "pixel = numero_1 % 10\n",
    "pixel"
   ]
  },
  {
   "cell_type": "code",
   "execution_count": 37,
   "metadata": {},
   "outputs": [
    {
     "data": {
      "text/plain": [
       "0"
      ]
     },
     "execution_count": 37,
     "metadata": {},
     "output_type": "execute_result"
    }
   ],
   "source": [
    "vizinho_up = Matriz[linha - 1] [pixel]\n",
    "vizinho_up"
   ]
  },
  {
   "cell_type": "code",
   "execution_count": 39,
   "metadata": {},
   "outputs": [
    {
     "data": {
      "text/plain": [
       "1"
      ]
     },
     "execution_count": 39,
     "metadata": {},
     "output_type": "execute_result"
    }
   ],
   "source": [
    "vizinho_down = Matriz[linha + 1] [pixel]\n",
    "vizinho_down"
   ]
  },
  {
   "cell_type": "code",
   "execution_count": 40,
   "metadata": {},
   "outputs": [
    {
     "data": {
      "text/plain": [
       "0"
      ]
     },
     "execution_count": 40,
     "metadata": {},
     "output_type": "execute_result"
    }
   ],
   "source": [
    "vizinho_left = Matriz[linha] [pixel - 1]\n",
    "vizinho_left"
   ]
  },
  {
   "cell_type": "code",
   "execution_count": 41,
   "metadata": {},
   "outputs": [
    {
     "data": {
      "text/plain": [
       "1"
      ]
     },
     "execution_count": 41,
     "metadata": {},
     "output_type": "execute_result"
    }
   ],
   "source": [
    "vizinho_right = Matriz[linha] [pixel + 1]\n",
    "vizinho_right"
   ]
  }
 ],
 "metadata": {
  "interpreter": {
   "hash": "916dbcbb3f70747c44a77c7bcd40155683ae19c65e1c03b4aa3499c5328201f1"
  },
  "kernelspec": {
   "display_name": "Python 3.9.7 64-bit",
   "language": "python",
   "name": "python3"
  },
  "language_info": {
   "codemirror_mode": {
    "name": "ipython",
    "version": 3
   },
   "file_extension": ".py",
   "mimetype": "text/x-python",
   "name": "python",
   "nbconvert_exporter": "python",
   "pygments_lexer": "ipython3",
   "version": "3.9.7"
  }
 },
 "nbformat": 4,
 "nbformat_minor": 2
}
